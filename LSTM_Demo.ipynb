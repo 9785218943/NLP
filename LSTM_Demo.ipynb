{
  "nbformat": 4,
  "nbformat_minor": 0,
  "metadata": {
    "colab": {
      "provenance": [],
      "gpuType": "T4"
    },
    "kernelspec": {
      "name": "python3",
      "display_name": "Python 3"
    },
    "language_info": {
      "name": "python"
    },
    "accelerator": "GPU"
  },
  "cells": [
    {
      "cell_type": "code",
      "source": [
        "from keras.datasets import imdb\n",
        "from keras.preprocessing.text import Tokenizer\n",
        "from keras.utils import pad_sequences\n",
        "from keras import Sequential\n",
        "from keras.layers import Dense,Embedding,Flatten, LSTM"
      ],
      "metadata": {
        "id": "kOe6Y-XvaYpV"
      },
      "execution_count": 1,
      "outputs": []
    },
    {
      "cell_type": "code",
      "source": [
        "(X_train,y_train),(X_test,y_test) = imdb.load_data()"
      ],
      "metadata": {
        "id": "4GJQffxGab_F",
        "colab": {
          "base_uri": "https://localhost:8080/"
        },
        "outputId": "312d7b5d-3115-4f09-cb5a-807a0e1d7b4a"
      },
      "execution_count": 2,
      "outputs": [
        {
          "output_type": "stream",
          "name": "stdout",
          "text": [
            "Downloading data from https://storage.googleapis.com/tensorflow/tf-keras-datasets/imdb.npz\n",
            "17464789/17464789 [==============================] - 1s 0us/step\n"
          ]
        }
      ]
    },
    {
      "cell_type": "code",
      "source": [
        "X_train = pad_sequences(X_train,padding='post',maxlen=50)\n",
        "X_test = pad_sequences(X_test,padding='post',maxlen=50)"
      ],
      "metadata": {
        "id": "i_qz5WkXadm2"
      },
      "execution_count": 3,
      "outputs": []
    },
    {
      "cell_type": "code",
      "source": [
        "X_train.shape"
      ],
      "metadata": {
        "colab": {
          "base_uri": "https://localhost:8080/"
        },
        "id": "JrxiCIxeae5t",
        "outputId": "b3ee1501-10ea-4111-cdc9-6b3764ab792e"
      },
      "execution_count": 4,
      "outputs": [
        {
          "output_type": "execute_result",
          "data": {
            "text/plain": [
              "(25000, 50)"
            ]
          },
          "metadata": {},
          "execution_count": 4
        }
      ]
    },
    {
      "cell_type": "code",
      "source": [
        "model = Sequential()\n",
        "model.add(Embedding(10000,output_dim=2,input_length=50))\n",
        "model.add(LSTM(32,return_sequences=False))\n",
        "model.add(Dense(1, activation='sigmoid'))\n",
        "\n",
        "model.summary()"
      ],
      "metadata": {
        "colab": {
          "base_uri": "https://localhost:8080/"
        },
        "id": "wLk-ynhmahtF",
        "outputId": "6f53e652-fbda-4870-d371-d96076f7d8d1"
      },
      "execution_count": 5,
      "outputs": [
        {
          "output_type": "stream",
          "name": "stdout",
          "text": [
            "Model: \"sequential\"\n",
            "_________________________________________________________________\n",
            " Layer (type)                Output Shape              Param #   \n",
            "=================================================================\n",
            " embedding (Embedding)       (None, 50, 2)             20000     \n",
            "                                                                 \n",
            " lstm (LSTM)                 (None, 32)                4480      \n",
            "                                                                 \n",
            " dense (Dense)               (None, 1)                 33        \n",
            "                                                                 \n",
            "=================================================================\n",
            "Total params: 24513 (95.75 KB)\n",
            "Trainable params: 24513 (95.75 KB)\n",
            "Non-trainable params: 0 (0.00 Byte)\n",
            "_________________________________________________________________\n"
          ]
        }
      ]
    },
    {
      "cell_type": "code",
      "source": [
        "model.compile(optimizer='adam', loss='binary_crossentropy', metrics=['acc'])\n",
        "history = model.fit(X_train, y_train,epochs=5,validation_data=(X_test,y_test))"
      ],
      "metadata": {
        "colab": {
          "base_uri": "https://localhost:8080/"
        },
        "id": "rhwG3Or7amgl",
        "outputId": "f5eb8faf-2ff0-4d3e-fddc-8f1e9b5bd4ba"
      },
      "execution_count": null,
      "outputs": [
        {
          "output_type": "stream",
          "name": "stdout",
          "text": [
            "Epoch 1/5\n",
            "782/782 [==============================] - 38s 39ms/step - loss: 0.5344 - acc: 0.7104 - val_loss: 0.4053 - val_acc: 0.8148\n",
            "Epoch 2/5\n",
            "782/782 [==============================] - 9s 12ms/step - loss: 0.3494 - acc: 0.8485 - val_loss: 0.4010 - val_acc: 0.8186\n",
            "Epoch 3/5\n",
            "782/782 [==============================] - 9s 11ms/step - loss: 0.2954 - acc: 0.8781 - val_loss: 0.4242 - val_acc: 0.8100\n",
            "Epoch 4/5\n",
            "782/782 [==============================] - 8s 10ms/step - loss: 0.2664 - acc: 0.8924 - val_loss: 0.4265 - val_acc: 0.8094\n",
            "Epoch 5/5\n",
            "782/782 [==============================] - 9s 11ms/step - loss: 0.2447 - acc: 0.9047 - val_loss: 0.4619 - val_acc: 0.8036\n"
          ]
        }
      ]
    },
    {
      "cell_type": "markdown",
      "source": [
        "# Predictions"
      ],
      "metadata": {
        "id": "oYgbhaFfeNKE"
      }
    },
    {
      "cell_type": "code",
      "source": [
        "test_data = X_test[0][0:50].reshape(1,-1)"
      ],
      "metadata": {
        "id": "knQLVIUOdIdn"
      },
      "execution_count": null,
      "outputs": []
    },
    {
      "cell_type": "code",
      "source": [
        "model.predict(test_data)"
      ],
      "metadata": {
        "colab": {
          "base_uri": "https://localhost:8080/"
        },
        "id": "g-EYytx9dQJ1",
        "outputId": "ded9f452-5287-4039-f42b-83b402beef74"
      },
      "execution_count": null,
      "outputs": [
        {
          "output_type": "stream",
          "name": "stdout",
          "text": [
            "1/1 [==============================] - 0s 381ms/step\n"
          ]
        },
        {
          "output_type": "execute_result",
          "data": {
            "text/plain": [
              "array([[0.3522337]], dtype=float32)"
            ]
          },
          "metadata": {},
          "execution_count": 8
        }
      ]
    },
    {
      "cell_type": "code",
      "source": [
        "boktiar@ineuron.ai\n",
        "keep in cc:\n",
        "query@ineuron.ai\n",
        "sourangshu@ineuron.ai"
      ],
      "metadata": {
        "id": "bc6ZWSpEeJzl"
      },
      "execution_count": null,
      "outputs": []
    }
  ]
}